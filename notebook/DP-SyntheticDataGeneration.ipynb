{
 "cells": [
  {
   "cell_type": "code",
   "execution_count": 2,
   "metadata": {},
   "outputs": [
    {
     "name": "stderr",
     "output_type": "stream",
     "text": [
      "/Users/harishdamodar/anaconda3/envs/syntheticdata2/lib/python3.9/site-packages/dpart/dpart.py:86: PrivacyLeakWarning: List of categories not sepecified for column 'education'\n",
      "  warnings.warn(f\"List of categories not sepecified for column '{col}'\", PrivacyLeakWarning)\n",
      "/Users/harishdamodar/anaconda3/envs/syntheticdata2/lib/python3.9/site-packages/dpart/dpart.py:86: PrivacyLeakWarning: List of categories not sepecified for column 'marital_status'\n",
      "  warnings.warn(f\"List of categories not sepecified for column '{col}'\", PrivacyLeakWarning)\n",
      "/Users/harishdamodar/anaconda3/envs/syntheticdata2/lib/python3.9/site-packages/dpart/dpart.py:86: PrivacyLeakWarning: List of categories not sepecified for column 'relationship'\n",
      "  warnings.warn(f\"List of categories not sepecified for column '{col}'\", PrivacyLeakWarning)\n",
      "/Users/harishdamodar/anaconda3/envs/syntheticdata2/lib/python3.9/site-packages/dpart/dpart.py:86: PrivacyLeakWarning: List of categories not sepecified for column 'sex'\n",
      "  warnings.warn(f\"List of categories not sepecified for column '{col}'\", PrivacyLeakWarning)\n",
      "/Users/harishdamodar/anaconda3/envs/syntheticdata2/lib/python3.9/site-packages/dpart/dpart.py:86: PrivacyLeakWarning: List of categories not sepecified for column 'income'\n",
      "  warnings.warn(f\"List of categories not sepecified for column '{col}'\", PrivacyLeakWarning)\n",
      "/Users/harishdamodar/anaconda3/envs/syntheticdata2/lib/python3.9/site-packages/dpart/dpart.py:131: UserWarning: target sex has no specified method will use default ProbabilityTensor\n",
      "  warnings.warn(\n",
      "/Users/harishdamodar/anaconda3/envs/syntheticdata2/lib/python3.9/site-packages/dpart/dpart.py:131: UserWarning: target relationship has no specified method will use default ProbabilityTensor\n",
      "  warnings.warn(\n",
      "/Users/harishdamodar/anaconda3/envs/syntheticdata2/lib/python3.9/site-packages/dpart/dpart.py:131: UserWarning: target marital_status has no specified method will use default ProbabilityTensor\n",
      "  warnings.warn(\n",
      "/Users/harishdamodar/anaconda3/envs/syntheticdata2/lib/python3.9/site-packages/dpart/dpart.py:131: UserWarning: target age has no specified method will use default ProbabilityTensor\n",
      "  warnings.warn(\n",
      "/Users/harishdamodar/anaconda3/envs/syntheticdata2/lib/python3.9/site-packages/dpart/dpart.py:131: UserWarning: target income has no specified method will use default ProbabilityTensor\n",
      "  warnings.warn(\n",
      "/Users/harishdamodar/anaconda3/envs/syntheticdata2/lib/python3.9/site-packages/dpart/dpart.py:131: UserWarning: target education has no specified method will use default ProbabilityTensor\n",
      "  warnings.warn(\n"
     ]
    }
   ],
   "source": [
    "import pandas as pd\n",
    "from pathlib import Path\n",
    "from dpart.engines import PrivBayes\n",
    "\n",
    "# Get training data\n",
    "train_df = pd.read_pickle(\"../experiments/data/adult/tiny_adult.pkl.gz\")\n",
    "\n",
    "# Initialise model\n",
    "pb_model = PrivBayes(\n",
    "              epsilon=0.1\n",
    "          )\n",
    "\n",
    "# Fit model to training data\n",
    "pb_model.fit(train_df)\n",
    "\n",
    "# Generate Data\n",
    "synth_data = pb_model.sample(train_df.shape[0])\n"
   ]
  },
  {
   "cell_type": "code",
   "execution_count": 4,
   "metadata": {},
   "outputs": [],
   "source": [
    "synth_data.to_csv('../generatedSyntheticdata/default.csv')"
   ]
  }
 ],
 "metadata": {
  "kernelspec": {
   "display_name": "syntheticdata2",
   "language": "python",
   "name": "python3"
  },
  "language_info": {
   "codemirror_mode": {
    "name": "ipython",
    "version": 3
   },
   "file_extension": ".py",
   "mimetype": "text/x-python",
   "name": "python",
   "nbconvert_exporter": "python",
   "pygments_lexer": "ipython3",
   "version": "3.9.18"
  }
 },
 "nbformat": 4,
 "nbformat_minor": 2
}
